{
 "cells": [
  {
   "cell_type": "code",
   "execution_count": 30,
   "metadata": {},
   "outputs": [],
   "source": [
    "import numpy as np\n",
    "import matplotlib.pyplot as plt\n",
    "import pandas as pd"
   ]
  },
  {
   "cell_type": "code",
   "execution_count": 31,
   "metadata": {},
   "outputs": [],
   "source": [
    "dataset = pd.read_csv('dataset.csv')\n",
    "#X = dataset.iloc[:, :-1].values\n",
    "#Y = dataset.iloc[:, -1].values"
   ]
  },
  {
   "cell_type": "code",
   "execution_count": 32,
   "metadata": {},
   "outputs": [
    {
     "data": {
      "text/plain": [
       "(106, 16)"
      ]
     },
     "execution_count": 32,
     "metadata": {},
     "output_type": "execute_result"
    }
   ],
   "source": [
    "dataset.shape"
   ]
  },
  {
   "cell_type": "code",
   "execution_count": 33,
   "metadata": {},
   "outputs": [
    {
     "name": "stdout",
     "output_type": "stream",
     "text": [
      "PNO                        0\n",
      "AGE                        0\n",
      "GENDER                     0\n",
      "DIABETES SINCE (IN YRS)    0\n",
      "OHS                        0\n",
      "PAN_CHEW                   0\n",
      "SMOKING                    0\n",
      "ALCOHOLIC                  0\n",
      "TOTAL TOOTH PRESENT        0\n",
      "GI                         0\n",
      "PI                         0\n",
      "TM G1                      0\n",
      "TMG2                       0\n",
      "TMG3                       0\n",
      "FUR TOOTH                  0\n",
      "GRADING                    0\n",
      "dtype: int64\n"
     ]
    }
   ],
   "source": [
    "print (dataset.isnull().sum())"
   ]
  },
  {
   "cell_type": "code",
   "execution_count": 34,
   "metadata": {},
   "outputs": [
    {
     "name": "stdout",
     "output_type": "stream",
     "text": [
      "   AGE GENDER  DIABETES SINCE (IN YRS)      OHS PAN_CHEW SMOKING ALCOHOLIC  \\\n",
      "0   45      F                        7  AVERAGE       NO      NO        NO   \n",
      "1   51      M                       10     POOR       NO     YES       YES   \n",
      "2   60      M                       25     POOR       NO     YES       YES   \n",
      "3   56      F                        6  AVERAGE       NO      NO        NO   \n",
      "\n",
      "   TOTAL TOOTH PRESENT     GI     PI  TM G1  TMG2  TMG3  FUR TOOTH GRADING  \n",
      "0                   32  1.780  5.875      3     0     0         14  SEVERE  \n",
      "1                   31  1.806  6.451      6     0     1         13  SEVERE  \n",
      "2                   15  2.466  8.000      5     4     6          7  SEVERE  \n",
      "3                   27  1.370  5.037      2     2     0          9  SEVERE  \n"
     ]
    }
   ],
   "source": [
    "df= dataset.drop(columns=[\"PNO\"])\n",
    "print (df.head(4))"
   ]
  },
  {
   "cell_type": "code",
   "execution_count": 35,
   "metadata": {},
   "outputs": [
    {
     "name": "stderr",
     "output_type": "stream",
     "text": [
      "C:\\Users\\Anurag Dhudhwani\\Anaconda3\\lib\\site-packages\\ipykernel_launcher.py:1: SettingWithCopyWarning: \n",
      "A value is trying to be set on a copy of a slice from a DataFrame\n",
      "\n",
      "See the caveats in the documentation: http://pandas.pydata.org/pandas-docs/stable/indexing.html#indexing-view-versus-copy\n",
      "  \"\"\"Entry point for launching an IPython kernel.\n",
      "C:\\Users\\Anurag Dhudhwani\\Anaconda3\\lib\\site-packages\\ipykernel_launcher.py:2: SettingWithCopyWarning: \n",
      "A value is trying to be set on a copy of a slice from a DataFrame\n",
      "\n",
      "See the caveats in the documentation: http://pandas.pydata.org/pandas-docs/stable/indexing.html#indexing-view-versus-copy\n",
      "  \n",
      "C:\\Users\\Anurag Dhudhwani\\Anaconda3\\lib\\site-packages\\ipykernel_launcher.py:3: SettingWithCopyWarning: \n",
      "A value is trying to be set on a copy of a slice from a DataFrame\n",
      "\n",
      "See the caveats in the documentation: http://pandas.pydata.org/pandas-docs/stable/indexing.html#indexing-view-versus-copy\n",
      "  This is separate from the ipykernel package so we can avoid doing imports until\n",
      "C:\\Users\\Anurag Dhudhwani\\Anaconda3\\lib\\site-packages\\ipykernel_launcher.py:4: SettingWithCopyWarning: \n",
      "A value is trying to be set on a copy of a slice from a DataFrame\n",
      "\n",
      "See the caveats in the documentation: http://pandas.pydata.org/pandas-docs/stable/indexing.html#indexing-view-versus-copy\n",
      "  after removing the cwd from sys.path.\n",
      "C:\\Users\\Anurag Dhudhwani\\Anaconda3\\lib\\site-packages\\ipykernel_launcher.py:5: SettingWithCopyWarning: \n",
      "A value is trying to be set on a copy of a slice from a DataFrame\n",
      "\n",
      "See the caveats in the documentation: http://pandas.pydata.org/pandas-docs/stable/indexing.html#indexing-view-versus-copy\n",
      "  \"\"\"\n",
      "C:\\Users\\Anurag Dhudhwani\\Anaconda3\\lib\\site-packages\\ipykernel_launcher.py:6: SettingWithCopyWarning: \n",
      "A value is trying to be set on a copy of a slice from a DataFrame\n",
      "\n",
      "See the caveats in the documentation: http://pandas.pydata.org/pandas-docs/stable/indexing.html#indexing-view-versus-copy\n",
      "  \n",
      "C:\\Users\\Anurag Dhudhwani\\Anaconda3\\lib\\site-packages\\ipykernel_launcher.py:7: SettingWithCopyWarning: \n",
      "A value is trying to be set on a copy of a slice from a DataFrame\n",
      "\n",
      "See the caveats in the documentation: http://pandas.pydata.org/pandas-docs/stable/indexing.html#indexing-view-versus-copy\n",
      "  import sys\n",
      "C:\\Users\\Anurag Dhudhwani\\Anaconda3\\lib\\site-packages\\ipykernel_launcher.py:8: SettingWithCopyWarning: \n",
      "A value is trying to be set on a copy of a slice from a DataFrame\n",
      "\n",
      "See the caveats in the documentation: http://pandas.pydata.org/pandas-docs/stable/indexing.html#indexing-view-versus-copy\n",
      "  \n"
     ]
    },
    {
     "name": "stdout",
     "output_type": "stream",
     "text": [
      "     AGE GENDER  DIABETES SINCE (IN YRS) OHS PAN_CHEW SMOKING ALCOHOLIC  \\\n",
      "0     45      0                        7   1        0       0         0   \n",
      "1     51      1                       10   0        0       1         1   \n",
      "2     60      1                       25   0        0       1         1   \n",
      "3     56      0                        6   1        0       0         0   \n",
      "4     62      1                       12   0        0       1         1   \n",
      "5     56      0                        7   1        0       0         0   \n",
      "6     67      1                       15   0        0       1         1   \n",
      "7     68      1                       20   0        0       1         1   \n",
      "8     59      1                       15   0        0       1         0   \n",
      "9     45      0                       12   1        1       0         0   \n",
      "10    39      1                        8   1        0       0         0   \n",
      "11    62      0                        8   1        0       0         0   \n",
      "12    57      1                       19   0        0       1         1   \n",
      "13    45      1                        3   1        0       1         0   \n",
      "14    39      1                        5   1        0       1         0   \n",
      "15    62      1                       15   0        0       1         1   \n",
      "16    66      1                       27   0        0       0         0   \n",
      "17    57      1                        7   1        0       1         1   \n",
      "18    46      1                        7   1        0       1         0   \n",
      "19    46      0                        6   1        0       0         0   \n",
      "20    65      0                       13   0        0       1         1   \n",
      "21    43      0                        2   1        0       0         0   \n",
      "22    63      1                        9   0        0       1         0   \n",
      "23    41      0                        3   1        0       0         0   \n",
      "24    48      1                        8   0        0       1         1   \n",
      "25    38      1                        1   2        0       0         0   \n",
      "26    69      1                       12   0        0       1         1   \n",
      "27    58      1                       14   0        1       0         0   \n",
      "28    43      1                        4   1        0       0         0   \n",
      "29    53      1                        6   0        0       1         1   \n",
      "..   ...    ...                      ...  ..      ...     ...       ...   \n",
      "76    52      1                        5   0        0       1         1   \n",
      "77    41      0                        3   1        0       0         0   \n",
      "78    56      0                       12   0        0       0         0   \n",
      "79    39      0                        2   1        0       0         0   \n",
      "80    62      1                        8   0        0       0         1   \n",
      "81    49      0                        8   0        0       0         0   \n",
      "82    43      0                        2   1        0       0         0   \n",
      "83    49      1                        5   1        0       1         0   \n",
      "84    56      1                        3   1        0       0         1   \n",
      "85    65      1                       12   0        0       0         0   \n",
      "86    56      1                       13   0        0       1         1   \n",
      "87    65      0                       12   0        0       0         0   \n",
      "88    67      1                        9   0        0       1         1   \n",
      "89    48      1                        5   1        0       1         0   \n",
      "90    48      1                        7   1        0       1         0   \n",
      "91    62      1                        7   1        0       1         1   \n",
      "92    49      0                        8   0        0       0         0   \n",
      "93    53      0                        4   0        0       0         0   \n",
      "94    40      0                        1   1        0       0         0   \n",
      "95    64      1                        9   0        0       1         1   \n",
      "96    57      0                        9   0        0       0         0   \n",
      "97    61      1                       10   1        0       1         0   \n",
      "98    72      1                       15   0        0       0         0   \n",
      "99    68      0                       12   0        0       0         0   \n",
      "100   48      0                        5   1        0       0         0   \n",
      "101   53      1                        4   1        0       1         0   \n",
      "102   59      1                        8   0        0       1         1   \n",
      "103   61      0                        4   0        0       0         0   \n",
      "104   45      1                        2   1        0       1         0   \n",
      "105   68      1                        5   0        0       1         1   \n",
      "\n",
      "     TOTAL TOOTH PRESENT     GI     PI  TM G1  TMG2  TMG3  FUR TOOTH GRADING  \n",
      "0                     32  1.780  5.875      3     0     0         14       1  \n",
      "1                     31  1.806  6.451      6     0     1         13       1  \n",
      "2                     15  2.466  8.000      5     4     6          7       1  \n",
      "3                     27  1.370  5.037      2     2     0          9       1  \n",
      "4                     14  2.857  8.000      4     7     3          5       1  \n",
      "5                     21  2.285  8.000     17     2     2          7       1  \n",
      "6                      7  2.714  8.000      0     4     3          5       1  \n",
      "7                     16  2.125  7.000     10     2     0          7       1  \n",
      "8                     10  2.200  6.200      2     0     0          2       1  \n",
      "9                     28  1.214  6.000      0     0     0         10       0  \n",
      "10                    32  1.687  6.875     11     5     0         14       1  \n",
      "11                    23  1.086  3.043      2     0     0          9       0  \n",
      "12                    29  2.241  7.724     10    11     7         12       1  \n",
      "13                    29  1.137  2.896      0     0     0         11       0  \n",
      "14                    24  1.375  5.666      6     0     0          9       1  \n",
      "15                    27  1.481  5.703      5     2     0          9       1  \n",
      "16                     3  2.333  8.000      2     2     0          0       1  \n",
      "17                    32  1.406  6.562      8     1     0         14       1  \n",
      "18                    18  1.222  6.444      3     1     0          7       1  \n",
      "19                    25  1.880  6.960      9     2     1          8       1  \n",
      "20                    25  2.600  8.000      1    12    12         11       1  \n",
      "21                    28  2.035  5.714      1     0     0         11       0  \n",
      "22                    23  2.521  8.000     11     7     5          8       1  \n",
      "23                    23  1.391  6.260      1     1     1          7       1  \n",
      "24                    25  2.440  8.000     10     7     8          9       1  \n",
      "25                    29  1.241  5.793      0     0     0         12       0  \n",
      "26                    13  2.230  8.000     10     3     0          5       1  \n",
      "27                    12  3.000  8.000      0     2    10          6       1  \n",
      "28                    29  1.482  5.241      2     0     0         12       0  \n",
      "29                    25  2.160  8.000     21     4     0         13       1  \n",
      "..                   ...    ...    ...    ...   ...   ...        ...     ...  \n",
      "76                    30  2.133  7.333     15     3     2         12       1  \n",
      "77                    28  2.250  6.500      6     1     0         10       1  \n",
      "78                     9  2.220  8.000      7     1     1          3       1  \n",
      "79                    28  1.357  5.214      1     0     0         10       0  \n",
      "80                    17  3.000  8.000      0     9     8          5       1  \n",
      "81                    22  2.590  8.000     19     2     1          5       1  \n",
      "82                    30  2.233  7.133     11     0     6         13       1  \n",
      "83                    32  2.312  6.562      7     2     0         14       1  \n",
      "84                    22  2.227  7.363     13     2     0         10       1  \n",
      "85                    17  2.941  7.882     16     0     0          6       1  \n",
      "86                    23  2.695  8.000     13     8     2         10       1  \n",
      "87                    10  2.500  8.000      9     1     0          0       1  \n",
      "88                    23  3.000  8.000      8    10     5          9       1  \n",
      "89                    31  1.451  6.000      3     1     0         13       1  \n",
      "90                    28  1.714  5.928      3     0     0         10       1  \n",
      "91                    32  2.031  6.625      0     8     2         14       1  \n",
      "92                    15  2.200  8.000     12     3     0          7       1  \n",
      "93                    17  3.000  8.000      9     6     2          3       1  \n",
      "94                    30  1.833  6.066      1     0     0         12       0  \n",
      "95                    30  2.566  8.000     16     9     5         13       1  \n",
      "96                    28  2.285  8.000     23     5     0         10       1  \n",
      "97                    27  1.962  6.222      3     0     0         11       1  \n",
      "98                     3  3.000  8.000      1     2     0          1       1  \n",
      "99                    20  2.450  8.000     17     2     1          5       1  \n",
      "100                   28  2.107  6.857      9     2     2         10       1  \n",
      "101                   25  1.720  6.240      8     0     0          9       1  \n",
      "102                   26  2.538  7.384     14     2     2          9       1  \n",
      "103                   16  2.312  7.750     14     0     0          4       1  \n",
      "104                   27  1.814  6.740      9     1     0          9       1  \n",
      "105                   24  2.250  5.833      3     5     0          8       1  \n",
      "\n",
      "[106 rows x 15 columns]\n"
     ]
    },
    {
     "name": "stderr",
     "output_type": "stream",
     "text": [
      "C:\\Users\\Anurag Dhudhwani\\Anaconda3\\lib\\site-packages\\ipykernel_launcher.py:9: SettingWithCopyWarning: \n",
      "A value is trying to be set on a copy of a slice from a DataFrame\n",
      "\n",
      "See the caveats in the documentation: http://pandas.pydata.org/pandas-docs/stable/indexing.html#indexing-view-versus-copy\n",
      "  if __name__ == '__main__':\n",
      "C:\\Users\\Anurag Dhudhwani\\Anaconda3\\lib\\site-packages\\ipykernel_launcher.py:10: SettingWithCopyWarning: \n",
      "A value is trying to be set on a copy of a slice from a DataFrame\n",
      "\n",
      "See the caveats in the documentation: http://pandas.pydata.org/pandas-docs/stable/indexing.html#indexing-view-versus-copy\n",
      "  # Remove the CWD from sys.path while we load stuff.\n",
      "C:\\Users\\Anurag Dhudhwani\\Anaconda3\\lib\\site-packages\\ipykernel_launcher.py:11: SettingWithCopyWarning: \n",
      "A value is trying to be set on a copy of a slice from a DataFrame\n",
      "\n",
      "See the caveats in the documentation: http://pandas.pydata.org/pandas-docs/stable/indexing.html#indexing-view-versus-copy\n",
      "  # This is added back by InteractiveShellApp.init_path()\n",
      "C:\\Users\\Anurag Dhudhwani\\Anaconda3\\lib\\site-packages\\ipykernel_launcher.py:12: SettingWithCopyWarning: \n",
      "A value is trying to be set on a copy of a slice from a DataFrame\n",
      "\n",
      "See the caveats in the documentation: http://pandas.pydata.org/pandas-docs/stable/indexing.html#indexing-view-versus-copy\n",
      "  if sys.path[0] == '':\n",
      "C:\\Users\\Anurag Dhudhwani\\Anaconda3\\lib\\site-packages\\ipykernel_launcher.py:13: SettingWithCopyWarning: \n",
      "A value is trying to be set on a copy of a slice from a DataFrame\n",
      "\n",
      "See the caveats in the documentation: http://pandas.pydata.org/pandas-docs/stable/indexing.html#indexing-view-versus-copy\n",
      "  del sys.path[0]\n",
      "C:\\Users\\Anurag Dhudhwani\\Anaconda3\\lib\\site-packages\\ipykernel_launcher.py:14: SettingWithCopyWarning: \n",
      "A value is trying to be set on a copy of a slice from a DataFrame\n",
      "\n",
      "See the caveats in the documentation: http://pandas.pydata.org/pandas-docs/stable/indexing.html#indexing-view-versus-copy\n",
      "  \n",
      "C:\\Users\\Anurag Dhudhwani\\Anaconda3\\lib\\site-packages\\ipykernel_launcher.py:15: SettingWithCopyWarning: \n",
      "A value is trying to be set on a copy of a slice from a DataFrame\n",
      "\n",
      "See the caveats in the documentation: http://pandas.pydata.org/pandas-docs/stable/indexing.html#indexing-view-versus-copy\n",
      "  from ipykernel import kernelapp as app\n"
     ]
    }
   ],
   "source": [
    "df.GENDER[df.GENDER == 'M'] = 1\n",
    "df.GENDER[df.GENDER == 'F'] = 0\n",
    "df.OHS[df.OHS == 'AVERAGE'] = 1\n",
    "df.OHS[df.OHS == 'POOR'] = 0\n",
    "df.OHS[df.OHS == 'GOOD'] = 2\n",
    "df.PAN_CHEW[df.PAN_CHEW == 'YES'] = 1\n",
    "df.PAN_CHEW[df.PAN_CHEW == 'NO'] = 0\n",
    "df.SMOKING[df.SMOKING == 'YES'] = 1\n",
    "df.SMOKING[df.SMOKING == 'NO'] = 0\n",
    "df.SMOKING[df.SMOKING == 'N0'] = 0\n",
    "df.ALCOHOLIC[df.ALCOHOLIC == 'YES'] = 1\n",
    "df.ALCOHOLIC[df.ALCOHOLIC == 'NO'] = 0\n",
    "df.GRADING[df.GRADING == 'SEVERE'] = 1\n",
    "df.GRADING[df.GRADING == 'MODERATE'] = 0\n",
    "df.GRADING[df.GRADING == 'MILD'] = 2\n",
    "print(df)"
   ]
  },
  {
   "cell_type": "code",
   "execution_count": 36,
   "metadata": {},
   "outputs": [],
   "source": [
    "from sklearn.model_selection import train_test_split\n",
    "X = df.iloc[:, :-1].values\n",
    "Y = df.iloc[:, -1].values\n",
    "Y=Y.astype('int')\n",
    "X_train, X_test, y_train, y_test = train_test_split(X,Y,random_state=0, test_size=0.20)"
   ]
  },
  {
   "cell_type": "code",
   "execution_count": 37,
   "metadata": {},
   "outputs": [
    {
     "name": "stderr",
     "output_type": "stream",
     "text": [
      "C:\\Users\\Anurag Dhudhwani\\Anaconda3\\lib\\site-packages\\sklearn\\utils\\validation.py:475: DataConversionWarning: Data with input dtype object was converted to float64 by StandardScaler.\n",
      "  warnings.warn(msg, DataConversionWarning)\n"
     ]
    }
   ],
   "source": [
    "from sklearn.preprocessing import StandardScaler\n",
    "sc = StandardScaler()\n",
    "X_train = sc.fit_transform(X_train)\n",
    "X_test = sc.transform(X_test)"
   ]
  },
  {
   "cell_type": "code",
   "execution_count": 38,
   "metadata": {
    "scrolled": true
   },
   "outputs": [
    {
     "data": {
      "text/plain": [
       "RandomForestClassifier(bootstrap=True, class_weight=None, criterion='entropy',\n",
       "            max_depth=None, max_features='auto', max_leaf_nodes=None,\n",
       "            min_impurity_decrease=0.0, min_impurity_split=None,\n",
       "            min_samples_leaf=1, min_samples_split=2,\n",
       "            min_weight_fraction_leaf=0.0, n_estimators=10, n_jobs=1,\n",
       "            oob_score=False, random_state=0, verbose=0, warm_start=False)"
      ]
     },
     "execution_count": 38,
     "metadata": {},
     "output_type": "execute_result"
    }
   ],
   "source": [
    "from sklearn.ensemble import RandomForestClassifier\n",
    "classifier = RandomForestClassifier(n_estimators = 10, criterion = 'entropy', random_state = 0)\n",
    "classifier.fit(X_train, y_train)"
   ]
  },
  {
   "cell_type": "code",
   "execution_count": 51,
   "metadata": {},
   "outputs": [
    {
     "name": "stdout",
     "output_type": "stream",
     "text": [
      "[[ 2  1]\n",
      " [ 0 19]]\n",
      "0.9545454545454546\n",
      "             precision    recall  f1-score   support\n",
      "\n",
      "          0       1.00      0.67      0.80         3\n",
      "          1       0.95      1.00      0.97        19\n",
      "\n",
      "avg / total       0.96      0.95      0.95        22\n",
      "\n",
      "(array([1.  , 0.95]), array([0.66666667, 1.        ]), array([0.8       , 0.97435897]), array([ 3, 19], dtype=int64))\n"
     ]
    }
   ],
   "source": [
    "from sklearn.metrics import confusion_matrix, accuracy_score, classification_report, precision_recall_fscore_support\n",
    "y_pred = classifier.predict(X_test)\n",
    "cm = confusion_matrix(y_test, y_pred)\n",
    "print (cm)\n",
    "print (accuracy_score (y_test, y_pred))\n",
    "print(classification_report(y_test, y_pred))\n",
    "print (precision_recall_fscore_support(y_test, y_pred))\n",
    "##senstivity_score (y_test, y_pred) "
   ]
  },
  {
   "cell_type": "code",
   "execution_count": 46,
   "metadata": {},
   "outputs": [
    {
     "name": "stdout",
     "output_type": "stream",
     "text": [
      "Sensitivity :  0.6666666666666666\n"
     ]
    }
   ],
   "source": [
    "sensitivity1 = cm[0,0]/(cm[0,0]+cm[0,1])\n",
    "print('Sensitivity : ', sensitivity1 )\n",
    "print(classification_report(y_true, y_pred))"
   ]
  },
  {
   "cell_type": "code",
   "execution_count": 47,
   "metadata": {},
   "outputs": [
    {
     "name": "stdout",
     "output_type": "stream",
     "text": [
      "Specificity :  1.0\n"
     ]
    }
   ],
   "source": [
    "specificity1 = cm[1,1]/(cm[1,0]+cm[1,1])\n",
    "print('Specificity : ', specificity1)"
   ]
  },
  {
   "cell_type": "code",
   "execution_count": null,
   "metadata": {},
   "outputs": [],
   "source": []
  }
 ],
 "metadata": {
  "kernelspec": {
   "display_name": "Python 3",
   "language": "python",
   "name": "python3"
  },
  "language_info": {
   "codemirror_mode": {
    "name": "ipython",
    "version": 3
   },
   "file_extension": ".py",
   "mimetype": "text/x-python",
   "name": "python",
   "nbconvert_exporter": "python",
   "pygments_lexer": "ipython3",
   "version": "3.6.5"
  }
 },
 "nbformat": 4,
 "nbformat_minor": 2
}
