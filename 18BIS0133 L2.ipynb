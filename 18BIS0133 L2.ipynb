{
 "cells": [
  {
   "cell_type": "code",
   "execution_count": 23,
   "metadata": {},
   "outputs": [],
   "source": [
    "import pandas as pd\n",
    "import numpy as np\n",
    "from datetime import datetime\n",
    "import matplotlib.pyplot as plt\n",
    "from sklearn.model_selection import train_test_split\n",
    "from sklearn.preprocessing import StandardScaler\n",
    "from sklearn.neighbors import KNeighborsClassifier\n",
    "from sklearn.metrics import confusion_matrix\n",
    "from sklearn.metrics import f1_score\n",
    "from sklearn.metrics import accuracy_score\n",
    "df = pd.read_csv(\"IOT-temp dataset task 2.csv\")\n"
   ]
  },
  {
   "cell_type": "code",
   "execution_count": 24,
   "metadata": {},
   "outputs": [
    {
     "name": "stdout",
     "output_type": "stream",
     "text": [
      "(97606, 5)\n"
     ]
    }
   ],
   "source": [
    "print (df.shape)"
   ]
  },
  {
   "cell_type": "code",
   "execution_count": 25,
   "metadata": {
    "scrolled": true
   },
   "outputs": [
    {
     "name": "stdout",
     "output_type": "stream",
     "text": [
      "                                    id  room_id/id        noted_date  temp  \\\n",
      "0  __export__.temp_log_196134_bd201015  Room Admin  08-12-2018 09:30  29.0   \n",
      "1  __export__.temp_log_196131_7bca51bc  Room Admin  08-12-2018 09:30  29.0   \n",
      "2  __export__.temp_log_196127_522915e3  Room Admin  08-12-2018 09:29  41.0   \n",
      "3  __export__.temp_log_196128_be0919cf  Room Admin  08-12-2018 09:29  41.0   \n",
      "\n",
      "  out/in  \n",
      "0     In  \n",
      "1     In  \n",
      "2    Out  \n",
      "3    Out  \n"
     ]
    }
   ],
   "source": [
    "print (df.head(4))\n"
   ]
  },
  {
   "cell_type": "code",
   "execution_count": 26,
   "metadata": {},
   "outputs": [
    {
     "name": "stdout",
     "output_type": "stream",
     "text": [
      "id             0\n",
      "room_id/id     0\n",
      "noted_date     0\n",
      "temp          14\n",
      "out/in         0\n",
      "dtype: int64\n"
     ]
    }
   ],
   "source": [
    " print (df.isnull().sum())\n",
    "#print (val.shape)"
   ]
  },
  {
   "cell_type": "code",
   "execution_count": 27,
   "metadata": {},
   "outputs": [
    {
     "name": "stdout",
     "output_type": "stream",
     "text": [
      "         noted_date  temp out/in\n",
      "0  08-12-2018 09:30  29.0     In\n",
      "1  08-12-2018 09:30  29.0     In\n",
      "2  08-12-2018 09:29  41.0    Out\n",
      "3  08-12-2018 09:29  41.0    Out\n"
     ]
    }
   ],
   "source": [
    "df_dropped = df.drop(columns=[\"room_id/id\", \"id\"])\n",
    "print (df_dropped.head(4)) #18BIS0133"
   ]
  },
  {
   "cell_type": "code",
   "execution_count": 28,
   "metadata": {},
   "outputs": [
    {
     "name": "stdout",
     "output_type": "stream",
     "text": [
      "         noted_date  temp out/in\n",
      "0  08-12-2018 09:30  29.0     In\n",
      "2  08-12-2018 09:29  41.0    Out\n",
      "4  08-12-2018 09:29  31.0     In\n",
      "6  08-12-2018 09:28  29.0     In\n"
     ]
    }
   ],
   "source": [
    " dup = df_dropped.drop_duplicates(keep = \"first\", inplace = False) \n",
    "print (dup.head(4))   #18BIS0133"
   ]
  },
  {
   "cell_type": "code",
   "execution_count": 29,
   "metadata": {},
   "outputs": [
    {
     "name": "stdout",
     "output_type": "stream",
     "text": [
      "0        29.0\n",
      "2        41.0\n",
      "4        31.0\n",
      "6        29.0\n",
      "8        29.0\n",
      "10       42.0\n",
      "12       29.0\n",
      "14       36.0\n",
      "15       29.0\n",
      "16       41.0\n",
      "18       29.0\n",
      "20       42.0\n",
      "22       29.0\n",
      "24       41.0\n",
      "26       29.0\n",
      "28       29.0\n",
      "30       29.0\n",
      "32       42.0\n",
      "34       29.0\n",
      "36       41.0\n",
      "38       29.0\n",
      "39       42.0\n",
      "40       30.0\n",
      "41       29.0\n",
      "42       42.0\n",
      "43       30.0\n",
      "44       30.0\n",
      "45       29.0\n",
      "47       29.0\n",
      "49       41.0\n",
      "         ... \n",
      "97519    32.0\n",
      "97522    32.0\n",
      "97523    31.0\n",
      "97524    32.0\n",
      "97525    31.0\n",
      "97526    31.0\n",
      "97528    31.0\n",
      "97538    31.0\n",
      "97544    32.0\n",
      "97545    31.0\n",
      "97546    32.0\n",
      "97547    31.0\n",
      "97548    32.0\n",
      "97549    31.0\n",
      "97550    32.0\n",
      "97553    31.0\n",
      "97554    32.0\n",
      "97557    32.0\n",
      "97560    31.0\n",
      "97565    32.0\n",
      "97566    32.0\n",
      "97568    31.0\n",
      "97569    32.0\n",
      "97570    33.0\n",
      "97571    31.0\n",
      "97573    31.0\n",
      "97576    31.0\n",
      "97579    32.0\n",
      "97594    36.0\n",
      "97603    31.0\n",
      "Name: temp, Length: 37281, dtype: float64\n"
     ]
    },
    {
     "name": "stderr",
     "output_type": "stream",
     "text": [
      "C:\\Users\\Anurag Dhudhwani\\Anaconda3\\lib\\site-packages\\pandas\\core\\generic.py:5430: SettingWithCopyWarning: \n",
      "A value is trying to be set on a copy of a slice from a DataFrame\n",
      "\n",
      "See the caveats in the documentation: http://pandas.pydata.org/pandas-docs/stable/indexing.html#indexing-view-versus-copy\n",
      "  self._update_inplace(new_data)\n"
     ]
    }
   ],
   "source": [
    "val_median = dup['temp'].median()\n",
    "dup['temp'].fillna(val_median,inplace = True)\n",
    "print (dup['temp'])  #18BIS0133"
   ]
  },
  {
   "cell_type": "code",
   "execution_count": 30,
   "metadata": {},
   "outputs": [
    {
     "name": "stdout",
     "output_type": "stream",
     "text": [
      "noted_date    0\n",
      "temp          0\n",
      "out/in        0\n",
      "dtype: int64\n"
     ]
    }
   ],
   "source": [
    "print(dup.isnull().sum())"
   ]
  },
  {
   "cell_type": "code",
   "execution_count": 31,
   "metadata": {},
   "outputs": [
    {
     "name": "stdout",
     "output_type": "stream",
     "text": [
      "         noted_date  temp out/in\n",
      "0  08-12-2018 09:30  29.0     In\n",
      "1  08-12-2018 09:30  29.0     In\n",
      "2  08-12-2018 09:29  41.0    Out\n",
      "3  08-12-2018 09:29  41.0    Out\n",
      "4  08-12-2018 09:29  31.0     In\n",
      "<class 'pandas.core.frame.DataFrame'>\n",
      "RangeIndex: 97606 entries, 0 to 97605\n",
      "Data columns (total 3 columns):\n",
      "noted_date    97606 non-null object\n",
      "temp          97592 non-null float64\n",
      "out/in        97606 non-null object\n",
      "dtypes: float64(1), object(2)\n",
      "memory usage: 2.2+ MB\n",
      "None\n"
     ]
    },
    {
     "name": "stderr",
     "output_type": "stream",
     "text": [
      "C:\\Users\\Anurag Dhudhwani\\Anaconda3\\lib\\site-packages\\ipykernel_launcher.py:2: SettingWithCopyWarning: \n",
      "A value is trying to be set on a copy of a slice from a DataFrame.\n",
      "Try using .loc[row_indexer,col_indexer] = value instead\n",
      "\n",
      "See the caveats in the documentation: http://pandas.pydata.org/pandas-docs/stable/indexing.html#indexing-view-versus-copy\n",
      "  \n",
      "C:\\Users\\Anurag Dhudhwani\\Anaconda3\\lib\\site-packages\\ipykernel_launcher.py:4: SettingWithCopyWarning: \n",
      "A value is trying to be set on a copy of a slice from a DataFrame.\n",
      "Try using .loc[row_indexer,col_indexer] = value instead\n",
      "\n",
      "See the caveats in the documentation: http://pandas.pydata.org/pandas-docs/stable/indexing.html#indexing-view-versus-copy\n",
      "  after removing the cwd from sys.path.\n"
     ]
    }
   ],
   "source": [
    "# Complete the call to convert the date column\n",
    "dup['noted_date'] =  pd.to_datetime(dup['noted_date'], format='%d-%m-%Y %H:%M')\n",
    "dup['noted_date'].astype('datetime64[D]').dtype\n",
    "dup['noted_date'] = pd.to_numeric(pd.to_datetime(dup['noted_date']))\n",
    "# Confirm the date column is in datetime format\n",
    "print(df_dropped.head())\n",
    "print(df_dropped.info())"
   ]
  },
  {
   "cell_type": "code",
   "execution_count": 32,
   "metadata": {},
   "outputs": [
    {
     "name": "stdout",
     "output_type": "stream",
     "text": [
      "             noted_date  temp out/in\n",
      "2   1544261340000000000  41.0    Out\n",
      "10  1544261100000000000  42.0    Out\n",
      "16  1544260860000000000  41.0    Out\n",
      "20  1544260740000000000  42.0    Out\n",
      "24  1544260620000000000  41.0    Out\n",
      "             noted_date  temp out/in\n",
      "0   1544261400000000000  29.0     In\n",
      "4   1544261340000000000  31.0     In\n",
      "6   1544261280000000000  29.0     In\n",
      "8   1544261160000000000  29.0     In\n",
      "12  1544261040000000000  29.0     In\n"
     ]
    }
   ],
   "source": [
    "df_out = dup[dup['out/in'] =='Out'] #This Varialble has OUT in it\n",
    "df_in = dup[dup['out/in'] =='In'] #This variable has IN in it\n",
    "\n",
    "print(df_out.head())\n",
    "print(df_in.head())"
   ]
  },
  {
   "cell_type": "code",
   "execution_count": 33,
   "metadata": {},
   "outputs": [],
   "source": [
    "#Splitting dataset for training and testing for OUT --> 1 for out, 2 --> IN\n",
    "\n",
    "X1 = df_out.iloc[:, 0:2]\n",
    "y1 = df_out.iloc[:, 1]\n",
    "X1_train, X1_test, y1_train, y1_test = train_test_split(X1,y1,random_state=0, test_size=0.2)"
   ]
  },
  {
   "cell_type": "code",
   "execution_count": 34,
   "metadata": {
    "scrolled": true
   },
   "outputs": [],
   "source": [
    "#Splitting dataset for training and testing for IN --> 1 for out, 2 for in\n",
    "\n",
    "X2 = df_in.iloc[:, 0:2]\n",
    "y2 = df_in.iloc[:, 1]\n",
    "X2_train, X2_test, y2_train, y2_test = train_test_split(X2,y2,random_state=0, test_size=0.2)"
   ]
  },
  {
   "cell_type": "code",
   "execution_count": 35,
   "metadata": {},
   "outputs": [],
   "source": [
    "#Feature scaling\n",
    "sc_X1 = StandardScaler()\n",
    "X1_train = sc_X1.fit_transform(X1_train)\n",
    "X1_test = sc_X1.transform(X1_test)\n",
    "sc_X2 = StandardScaler()\n",
    "X2_train = sc_X2.fit_transform(X2_train)\n",
    "X2_test = sc_X2.transform(X2_test)"
   ]
  },
  {
   "cell_type": "code",
   "execution_count": 36,
   "metadata": {},
   "outputs": [
    {
     "data": {
      "text/plain": [
       "KNeighborsClassifier(algorithm='auto', leaf_size=30, metric='euclidean',\n",
       "           metric_params=None, n_jobs=1, n_neighbors=10, p=2,\n",
       "           weights='uniform')"
      ]
     },
     "execution_count": 36,
     "metadata": {},
     "output_type": "execute_result"
    }
   ],
   "source": [
    "classifier_IN = KNeighborsClassifier(n_neighbors= 10, p = 2, metric = 'euclidean')\n",
    "classifier_IN.fit(X2_train, y2_train) #18BIS0133"
   ]
  },
  {
   "cell_type": "code",
   "execution_count": 37,
   "metadata": {},
   "outputs": [
    {
     "data": {
      "text/plain": [
       "KNeighborsClassifier(algorithm='auto', leaf_size=30, metric='euclidean',\n",
       "           metric_params=None, n_jobs=1, n_neighbors=10, p='weighted',\n",
       "           weights='uniform')"
      ]
     },
     "execution_count": 37,
     "metadata": {},
     "output_type": "execute_result"
    }
   ],
   "source": [
    "classifier_OUT = KNeighborsClassifier(n_neighbors= 10, p = 'weighted', metric = 'euclidean')\n",
    "classifier_OUT.fit(X1_train, y1_train)  #18BIS0133"
   ]
  },
  {
   "cell_type": "code",
   "execution_count": 38,
   "metadata": {},
   "outputs": [
    {
     "name": "stdout",
     "output_type": "stream",
     "text": [
      "[[  0   2   0   0   0   0   0   0   0   0   0   0   0   0   0   0   0   0\n",
      "    0   0   0   0   0   0   0   0   0   0]\n",
      " [  0   4   0   0   0   0   0   0   0   0   0   0   0   0   0   0   0   0\n",
      "    0   0   0   0   0   0   0   0   0   0]\n",
      " [  0   0  19   0   0   0   1   0   0   0   0   0   0   0   0   0   0   0\n",
      "    0   0   0   0   0   0   0   0   0   0]\n",
      " [  0   0   0 138   0   0   1   0   0   0   0   0   0   0   0   0   0   0\n",
      "    0   0   0   0   0   0   0   0   0   0]\n",
      " [  0   0   0   0 256   0   1   0   0   0   0   0   0   0   0   0   0   0\n",
      "    0   0   0   0   0   0   0   0   0   0]\n",
      " [  0   0   0   0   0 201   2   1   0   0   0   0   0   0   0   0   0   0\n",
      "    0   0   0   0   0   0   0   0   0   0]\n",
      " [  0   0   0   0   0   0 235   4   0   0   0   0   0   0   0   0   0   0\n",
      "    0   0   0   0   0   0   0   0   0   0]\n",
      " [  0   0   0   0   0   0   0 254   0   0   0   0   0   0   0   0   0   0\n",
      "    0   0   0   0   0   0   0   0   0   0]\n",
      " [  0   0   0   0   0   0   0   1 139   0   0   0   0   0   0   0   0   0\n",
      "    0   0   0   0   0   0   0   0   0   0]\n",
      " [  0   0   0   0   0   0   0   0   2 139   1   0   0   0   0   0   0   0\n",
      "    0   0   0   0   0   0   0   0   0   0]\n",
      " [  0   0   0   0   0   0   0   0   0   2 128   0   0   0   0   0   0   0\n",
      "    0   0   0   0   0   0   0   0   0   0]\n",
      " [  0   0   0   0   0   0   0   0   0   0   0 112   0   0   0   0   0   0\n",
      "    0   0   0   0   0   0   0   0   0   0]\n",
      " [  0   0   0   0   0   0   0   0   0   1   0   2 228   0   0   0   0   0\n",
      "    0   0   0   0   0   0   0   0   0   0]\n",
      " [  0   0   0   0   0   0   0   0   0   0   0   0   0 318   0   0   0   0\n",
      "    0   0   0   0   0   0   0   0   0   0]\n",
      " [  0   0   0   0   0   0   0   0   0   0   0   0   0   0 324   0   0   0\n",
      "    0   0   0   0   0   0   0   0   0   0]\n",
      " [  0   0   0   0   0   0   0   0   0   0   0   0   0   0   0 387   0   0\n",
      "    0   0   0   0   0   0   0   0   0   0]\n",
      " [  0   0   0   0   0   0   0   0   0   0   0   0   0   0   0   0 346   0\n",
      "    0   0   0   0   0   0   0   0   0   0]\n",
      " [  0   0   0   0   0   0   0   0   0   0   0   0   0   0   0   0   0 414\n",
      "    0   0   0   0   0   0   0   0   0   0]\n",
      " [  0   0   0   0   0   0   0   0   0   0   0   0   0   0   0   0   0   0\n",
      "  317   0   0   0   0   0   0   0   0   0]\n",
      " [  0   0   0   0   0   0   0   0   0   0   0   0   0   0   0   0   0   0\n",
      "    0 272   0   0   0   0   0   0   0   0]\n",
      " [  0   0   0   0   0   0   0   0   0   0   0   0   0   0   0   0   0   0\n",
      "    0   0 291   0   0   0   0   0   0   0]\n",
      " [  0   0   0   0   0   0   0   0   0   0   0   0   0   0   0   0   0   0\n",
      "    0   0   0 236   0   0   0   0   0   0]\n",
      " [  0   0   0   0   0   0   0   0   0   0   0   0   0   0   0   0   0   0\n",
      "    0   0   0   0 228   0   0   0   0   0]\n",
      " [  0   0   0   0   0   0   0   0   0   0   0   0   0   0   0   0   0   0\n",
      "    0   0   0   0   0 172   0   0   0   0]\n",
      " [  0   0   0   0   0   0   0   0   0   0   0   0   0   0   0   0   0   0\n",
      "    0   0   0   0   0   1 190   0   0   0]\n",
      " [  0   0   0   0   0   0   0   0   0   0   0   0   0   0   0   0   0   0\n",
      "    0   0   0   0   0   0   4  81   0   0]\n",
      " [  0   0   0   0   0   0   0   0   0   0   0   0   0   0   0   0   0   0\n",
      "    0   0   0   0   0   0   0   1  10   0]\n",
      " [  0   0   0   0   0   0   0   0   0   0   0   0   0   0   0   0   0   0\n",
      "    0   0   0   0   0   0   0   0   1   0]]\n",
      "0.9946391649010393\n"
     ]
    },
    {
     "name": "stderr",
     "output_type": "stream",
     "text": [
      "C:\\Users\\Anurag Dhudhwani\\Anaconda3\\lib\\site-packages\\sklearn\\metrics\\classification.py:1135: UndefinedMetricWarning: F-score is ill-defined and being set to 0.0 in labels with no predicted samples.\n",
      "  'precision', 'predicted', average, warn_for)\n"
     ]
    }
   ],
   "source": [
    "y1_pred = classifier_OUT.predict(X1_test)\n",
    "y2_pred = classifier_IN.predict(X2_test)\n",
    "cm = confusion_matrix (y1_test,y1_pred)\n",
    "print (cm)\n",
    "print (f1_score(y1_test,y1_pred, average='weighted'))"
   ]
  },
  {
   "cell_type": "code",
   "execution_count": 39,
   "metadata": {},
   "outputs": [
    {
     "name": "stdout",
     "output_type": "stream",
     "text": [
      "[[  0   1   1   0   0   0   0   0   0   0   0   0   0   0]\n",
      " [  0   3   2   0   0   0   0   0   0   0   0   0   0   0]\n",
      " [  0   0  18   0   0   0   0   0   0   0   0   0   0   0]\n",
      " [  0   0   1  39   0   0   0   0   0   0   0   0   0   0]\n",
      " [  0   0   0   0 113   0   0   0   0   0   0   0   0   0]\n",
      " [  0   0   0   0   0 156   0   0   0   0   0   0   0   0]\n",
      " [  0   0   0   0   0   0 300   0   0   0   0   0   0   0]\n",
      " [  0   0   0   0   0   0   0 282   0   0   0   0   0   0]\n",
      " [  0   0   0   0   0   0   0   0 331   0   0   0   0   0]\n",
      " [  0   0   0   0   0   0   0   0   0 291   0   0   0   0]\n",
      " [  0   0   0   0   0   0   0   0   0   0 232   0   0   0]\n",
      " [  0   0   0   0   0   0   0   0   0   0   0 152   0   0]\n",
      " [  0   0   0   0   0   0   0   0   0   0   0   0  60   0]\n",
      " [  0   0   0   0   0   0   0   0   0   0   0   0   0   8]]\n",
      "0.9969984945826177\n"
     ]
    },
    {
     "name": "stderr",
     "output_type": "stream",
     "text": [
      "C:\\Users\\Anurag Dhudhwani\\Anaconda3\\lib\\site-packages\\sklearn\\metrics\\classification.py:1135: UndefinedMetricWarning: F-score is ill-defined and being set to 0.0 in labels with no predicted samples.\n",
      "  'precision', 'predicted', average, warn_for)\n"
     ]
    }
   ],
   "source": [
    "cm_in = confusion_matrix(y2_test, y2_pred)\n",
    "print (cm_in)\n",
    "print (f1_score(y2_test, y2_pred, average='weighted')) #18BIS0133"
   ]
  },
  {
   "cell_type": "code",
   "execution_count": 40,
   "metadata": {},
   "outputs": [
    {
     "name": "stdout",
     "output_type": "stream",
     "text": [
      "0.9948783610755442\n"
     ]
    }
   ],
   "source": [
    "print (accuracy_score(y1_test,y1_pred))"
   ]
  },
  {
   "cell_type": "code",
   "execution_count": 41,
   "metadata": {},
   "outputs": [
    {
     "name": "stdout",
     "output_type": "stream",
     "text": [
      "0.9974874371859297\n"
     ]
    }
   ],
   "source": [
    "print (accuracy_score(y2_test,y2_pred))"
   ]
  },
  {
   "cell_type": "code",
   "execution_count": 42,
   "metadata": {},
   "outputs": [
    {
     "data": {
      "text/plain": [
       "array([42., 45., 39., ..., 39., 39., 47.])"
      ]
     },
     "execution_count": 42,
     "metadata": {},
     "output_type": "execute_result"
    }
   ],
   "source": [
    "y1_pred"
   ]
  },
  {
   "cell_type": "code",
   "execution_count": 43,
   "metadata": {},
   "outputs": [
    {
     "data": {
      "image/png": "[encoded data removed]",
      "text/plain": [
       "<Figure size 432x288 with 1 Axes>"
      ]
     },
     "metadata": {},
     "output_type": "display_data"
    }
   ],
   "source": [
    "no_neighbors = np.arange(1, 9)\n",
    "train_accuracy = np.empty(len(no_neighbors))\n",
    "test_accuracy = np.empty(len(no_neighbors))\n",
    "\n",
    "for i, k in enumerate(no_neighbors):\n",
    "    # We instantiate the classifier\n",
    "    knn = KNeighborsClassifier(n_neighbors=k)\n",
    "    # Fit the classifier to the training data\n",
    "    knn.fit(X1_train,y1_train)\n",
    "    \n",
    "    # Compute accuracy on the training set\n",
    "    train_accuracy[i] = knn.score(X1_train, y1_train)\n",
    "\n",
    "    # Compute accuracy on the testing set\n",
    "    test_accuracy[i] = knn.score(X1_test, y1_test)\n",
    "\n",
    "# Visualization of k values vs accuracy\n",
    "\n",
    "plt.title('k-NN: Varying Number of Neighbors')\n",
    "plt.plot(no_neighbors, test_accuracy, label = 'Testing Accuracy')\n",
    "plt.plot(no_neighbors, train_accuracy, label = 'Training Accuracy')\n",
    "plt.legend()\n",
    "plt.xlabel('Number of Neighbors')\n",
    "plt.ylabel('Accuracy')\n",
    "plt.show()"
   ]
  },
  {
   "cell_type": "code",
   "execution_count": 44,
   "metadata": {},
   "outputs": [
    {
     "data": {
      "image/png": "[encoded data removed]",
      "text/plain": [
       "<Figure size 432x288 with 1 Axes>"
      ]
     },
     "metadata": {},
     "output_type": "display_data"
    }
   ],
   "source": [
    "no_neighbors = np.arange(1, 9)\n",
    "train_accuracy = np.empty(len(no_neighbors))\n",
    "test_accuracy = np.empty(len(no_neighbors))\n",
    "\n",
    "for i, k in enumerate(no_neighbors):\n",
    "    # We instantiate the classifier\n",
    "    knn = KNeighborsClassifier(n_neighbors=k)\n",
    "    # Fit the classifier to the training data\n",
    "    knn.fit(X1_train,y1_train)\n",
    "    \n",
    "    # Compute accuracy on the training set\n",
    "    train_accuracy[i] = knn.score(X2_train, y2_train)\n",
    "\n",
    "    # Compute accuracy on the testing set\n",
    "    test_accuracy[i] = knn.score(X2_test, y2_test)\n",
    "\n",
    "# Visualization of k values vs accuracy\n",
    "\n",
    "plt.title('k-NN: Varying Number of Neighbors')\n",
    "plt.plot(no_neighbors, test_accuracy, label = 'Testing Accuracy')\n",
    "plt.plot(no_neighbors, train_accuracy, label = 'Training Accuracy')\n",
    "plt.legend()\n",
    "plt.xlabel('Number of Neighbors')\n",
    "plt.ylabel('Accuracy')\n",
    "plt.show()"
   ]
  },
  {
   "cell_type": "code",
   "execution_count": null,
   "metadata": {},
   "outputs": [],
   "source": []
  }
 ],
 "metadata": {
  "kernelspec": {
   "display_name": "Python 3",
   "language": "python",
   "name": "python3"
  },
  "language_info": {
   "codemirror_mode": {
    "name": "ipython",
    "version": 3
   },
   "file_extension": ".py",
   "mimetype": "text/x-python",
   "name": "python",
   "nbconvert_exporter": "python",
   "pygments_lexer": "ipython3",
   "version": "3.6.5"
  }
 },
 "nbformat": 4,
 "nbformat_minor": 2
}
